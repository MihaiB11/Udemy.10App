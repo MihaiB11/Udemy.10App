{
 "cells": [
  {
   "cell_type": "code",
   "execution_count": 21,
   "metadata": {},
   "outputs": [],
   "source": [
    "from pandas_datareader import data\n",
    "from datetime import datetime\n",
    "from bokeh.plotting import figure, show, output_file\n",
    "\n",
    "start = datetime(2020, 9, 1)\n",
    "end = datetime(2020, 10, 20)\n",
    "\n",
    "df = data.DataReader(name = \"AAPL\", data_source = \"yahoo\", start = start, end = end)"
   ]
  },
  {
   "cell_type": "code",
   "execution_count": 33,
   "metadata": {},
   "outputs": [],
   "source": [
    "def inc_dec(c, o):\n",
    "    if c > o:\n",
    "        value = \"Increase\"\n",
    "    elif c < o:\n",
    "        value = \"Decrease\"\n",
    "    else:\n",
    "        value = Equal\n",
    "    return value\n",
    "df[\"Status\"] = [inc_dec(c, o) for c, o in zip(df.Close, df.Open)]\n",
    "\n",
    "#inc = df.index[df.Close > df.Open]\n",
    "#dec = df.index[df.Open > df.Close]"
   ]
  },
  {
   "cell_type": "code",
   "execution_count": 38,
   "metadata": {},
   "outputs": [],
   "source": [
    "df[\"Middle\"] = (df.Open+df.Close)/2\n",
    "df[\"Height\"] = abs(df.Close - df.Open)\n"
   ]
  },
  {
   "cell_type": "code",
   "execution_count": 36,
   "metadata": {},
   "outputs": [],
   "source": [
    "p = figure(x_axis_type = 'datetime', width = 1000, height = 300)\n",
    "p.title.text = \"Candlestick Chart\"\n",
    "\n",
    "hours_12 = 12*60*60*1000\n",
    "\n",
    "p.rect(x = df.index[df.Status == \"Increase\"], y = df.Middle[df.Status == \"Increase\"], width = hours_12, height = df.Height[df.Status == \"Increase\"], fill_color = \"green\", line_color = \"black\")\n",
    "p.rect(x = df.index[df.Status == \"Decrease\"], y = df.Middle[df.Status == \"Decrease\"], width = hours_12, height = df.Height[df.Status == \"Decrease\"], fill_color = \"red\", line_color = \"black\")\n",
    "\n",
    "output_file(\"CS.html\")\n",
    "show(p)"
   ]
  }
 ],
 "metadata": {
  "kernelspec": {
   "display_name": "Python 3",
   "language": "python",
   "name": "python3"
  },
  "language_info": {
   "codemirror_mode": {
    "name": "ipython",
    "version": 3
   },
   "file_extension": ".py",
   "mimetype": "text/x-python",
   "name": "python",
   "nbconvert_exporter": "python",
   "pygments_lexer": "ipython3",
   "version": "3.8.3"
  }
 },
 "nbformat": 4,
 "nbformat_minor": 4
}
